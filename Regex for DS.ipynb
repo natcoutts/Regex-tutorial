{
 "cells": [
  {
   "cell_type": "markdown",
   "metadata": {
    "toc": true
   },
   "source": [
    "<h1>Table of Contents<span class=\"tocSkip\"></span></h1>\n",
    "<div class=\"toc\"><ul class=\"toc-item\"></ul></div>"
   ]
  },
  {
   "cell_type": "markdown",
   "metadata": {},
   "source": [
    "Resources:\n",
    "- https://www.dataquest.io/blog/regular-expressions-data-scientists/\n",
    "\n",
    "Next step:\n",
    "- \n",
    "\n",
    "Assign the results to the match variable for neatness\n",
    "- match = re.findall({\\d7}, FILE)\n",
    "- match = re.search({\\d7}, FILE) # .group() converts a re object into a string\n",
    "\n",
    "To apply to TEST file:\n",
    "for line in re.findall({\\d7}, \"TEST OSvC customer comments.txt):\n",
    "    print(line)\n",
    "\n",
    "To apply to OSvC file:\n",
    "for line in re.findall({\\d7}, \"OSvC_Survey_Details_Dec19.txt):\n",
    "    print(line)\n",
    "    \n",
    "To split out each survey response by the 7-digit SR ID:\n",
    "contents = re.split(r\"{\\d7}\", FILE)\n",
    "#contents.pop(0)"
   ]
  },
  {
   "cell_type": "code",
   "execution_count": 1,
   "metadata": {},
   "outputs": [],
   "source": [
    "import re\n",
    "import pandas as pd\n",
    "import email"
   ]
  },
  {
   "cell_type": "code",
   "execution_count": 2,
   "metadata": {},
   "outputs": [],
   "source": [
    "fh = open(r'test_emails.txt','r').read()"
   ]
  },
  {
   "cell_type": "code",
   "execution_count": 3,
   "metadata": {},
   "outputs": [
    {
     "name": "stdout",
     "output_type": "stream",
     "text": [
      "der.com>\n",
      "Message-Id: <200210311310.g9VDANt24674@bloodwork.mr.itd.UM>\n",
      "From: \"Mr. Be\n",
      "g_715@epatra.com>\n",
      "Message-Id: <200210312227.g9VMQvDj017948@bluewhale.cs.CU>\n",
      "From: \"PRINCE OBONG ELEME\" <obo\n"
     ]
    }
   ],
   "source": [
    "for line in fh.split(\"n\"):\n",
    "    if 'From:' in line:\n",
    "        print(line)"
   ]
  },
  {
   "cell_type": "markdown",
   "metadata": {},
   "source": [
    "re.findall() matches all instances of a pattern in a string and returns them in a LIST"
   ]
  },
  {
   "cell_type": "code",
   "execution_count": 5,
   "metadata": {},
   "outputs": [
    {
     "name": "stdout",
     "output_type": "stream",
     "text": [
      "From: \"Mr. Ben Suleman\" <bensul2004nng@spinfinder.com>\n",
      "From: \"PRINCE OBONG ELEME\" <obong_715@epatra.com>\n"
     ]
    }
   ],
   "source": [
    "# find \"From\" details\n",
    "for line in re.findall(\"From:.*\", fh):\n",
    "    print(line)"
   ]
  },
  {
   "cell_type": "code",
   "execution_count": 5,
   "metadata": {},
   "outputs": [
    {
     "name": "stdout",
     "output_type": "stream",
     "text": [
      "['\"Mr. Ben Suleman\"']\n",
      "['\"PRINCE OBONG ELEME\"']\n"
     ]
    }
   ],
   "source": [
    "# find sender's name\n",
    "match =  re.findall(\"From:.*\", fh)\n",
    "\n",
    "for line in match:\n",
    "    print(re.findall('\\\".*\\\"', line))"
   ]
  },
  {
   "cell_type": "code",
   "execution_count": 14,
   "metadata": {},
   "outputs": [
    {
     "name": "stdout",
     "output_type": "stream",
     "text": [
      "['bensul2004nng@spinfinder.com']\n",
      "['obong_715@epatra.com']\n"
     ]
    }
   ],
   "source": [
    "# find email addresses\n",
    "\n",
    "match = re.findall(\"From:.*\", fh)\n",
    "\n",
    "for line in match: \n",
    "    print(re.findall(\"\\w\\S*@.*\\w\", line)) # \"\\w\\S*@\" would return \n",
    "#just the start of the email address, up to the @ symbol"
   ]
  },
  {
   "cell_type": "markdown",
   "metadata": {},
   "source": [
    "Split at a certain character to extract part of text. We couldn't use it for the OSvC text, because we're not looking at PART of a text. "
   ]
  },
  {
   "cell_type": "code",
   "execution_count": 15,
   "metadata": {},
   "outputs": [
    {
     "name": "stdout",
     "output_type": "stream",
     "text": [
      "bensul2004nng, spinfinder.com\n",
      "obong_715, epatra.com\n"
     ]
    }
   ],
   "source": [
    "address = re.findall(\"From:.*\", fh)\n",
    "for item in address:\n",
    "    for line in re.findall(\"\\w\\S*@.*\\w\", item):\n",
    "        username, domain_name = re.split (\"@\", line)\n",
    "        print(\"{}, {}\".format(username, domain_name))"
   ]
  },
  {
   "cell_type": "markdown",
   "metadata": {},
   "source": [
    "Regex with Pandas"
   ]
  },
  {
   "cell_type": "code",
   "execution_count": 17,
   "metadata": {},
   "outputs": [],
   "source": [
    "emails = []\n",
    "\n",
    "fh = open(r\"test_emails.txt\", \"r\").read()"
   ]
  },
  {
   "cell_type": "code",
   "execution_count": 19,
   "metadata": {},
   "outputs": [
    {
     "data": {
      "text/plain": [
       "''"
      ]
     },
     "execution_count": 19,
     "metadata": {},
     "output_type": "execute_result"
    }
   ],
   "source": [
    "contents = re.split(r\"From r\", fh)\n",
    "contents.pop(0)"
   ]
  },
  {
   "cell_type": "code",
   "execution_count": null,
   "metadata": {},
   "outputs": [],
   "source": []
  },
  {
   "cell_type": "code",
   "execution_count": null,
   "metadata": {},
   "outputs": [],
   "source": []
  },
  {
   "cell_type": "code",
   "execution_count": null,
   "metadata": {},
   "outputs": [],
   "source": []
  }
 ],
 "metadata": {
  "hide_input": false,
  "kernelspec": {
   "display_name": "Python 3",
   "language": "python",
   "name": "python3"
  },
  "language_info": {
   "codemirror_mode": {
    "name": "ipython",
    "version": 3
   },
   "file_extension": ".py",
   "mimetype": "text/x-python",
   "name": "python",
   "nbconvert_exporter": "python",
   "pygments_lexer": "ipython3",
   "version": "3.7.1"
  },
  "toc": {
   "base_numbering": 1,
   "nav_menu": {},
   "number_sections": true,
   "sideBar": true,
   "skip_h1_title": false,
   "title_cell": "Table of Contents",
   "title_sidebar": "Contents",
   "toc_cell": true,
   "toc_position": {},
   "toc_section_display": true,
   "toc_window_display": false
  },
  "varInspector": {
   "cols": {
    "lenName": 16,
    "lenType": 16,
    "lenVar": 40
   },
   "kernels_config": {
    "python": {
     "delete_cmd_postfix": "",
     "delete_cmd_prefix": "del ",
     "library": "var_list.py",
     "varRefreshCmd": "print(var_dic_list())"
    },
    "r": {
     "delete_cmd_postfix": ") ",
     "delete_cmd_prefix": "rm(",
     "library": "var_list.r",
     "varRefreshCmd": "cat(var_dic_list()) "
    }
   },
   "types_to_exclude": [
    "module",
    "function",
    "builtin_function_or_method",
    "instance",
    "_Feature"
   ],
   "window_display": false
  }
 },
 "nbformat": 4,
 "nbformat_minor": 2
}
